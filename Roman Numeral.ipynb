{
 "cells": [
  {
   "cell_type": "code",
   "execution_count": 8,
   "metadata": {},
   "outputs": [],
   "source": [
    "import pandas as pd\n",
    "import numpy as np\n",
    "import math"
   ]
  },
  {
   "cell_type": "code",
   "execution_count": 116,
   "metadata": {},
   "outputs": [],
   "source": [
    "places = ['I', 'V', 'X', 'L', 'C', 'D', 'M']\n",
    "\n",
    "def romanNumeralDigit(dig, place): \n",
    "    lst = []\n",
    "    idx = place*2\n",
    "    tiers = places[idx] if place == 4 else places[idx: idx+3]\n",
    "    level = math.floor(dig/5)\n",
    "    if place < 3: \n",
    "        if (dig < 9) & (dig != 4): \n",
    "            lst = [tiers[1]] * level + [tiers[0]] * (dig - level*5)\n",
    "        elif dig == 4: \n",
    "            lst = [tiers[0], tiers[1]]\n",
    "        elif dig == 9: \n",
    "            lst = [tiers[0], tiers[2]]\n",
    "    elif place == 3: \n",
    "        lst = tiers[0]*dig\n",
    "    return lst\n",
    "\n",
    "def romanNumeral(num): \n",
    "    if num >= 5000:  \n",
    "        print('Number must be less than 5000')\n",
    "        return None\n",
    "    else: \n",
    "        lst = []\n",
    "        numList = str(num)\n",
    "        for i in numList: \n",
    "            place = len(numList)-numList.index(i) - 1\n",
    "            lst.extend(romanNumeralDigit(int(i), place))\n",
    "        return \"\".join(lst)"
   ]
  },
  {
   "cell_type": "code",
   "execution_count": 121,
   "metadata": {},
   "outputs": [
    {
     "data": {
      "text/plain": [
       "'II'"
      ]
     },
     "execution_count": 121,
     "metadata": {},
     "output_type": "execute_result"
    }
   ],
   "source": [
    "romanNumeral(2)"
   ]
  },
  {
   "cell_type": "code",
   "execution_count": 122,
   "metadata": {},
   "outputs": [
    {
     "data": {
      "text/plain": [
       "'DLXVII'"
      ]
     },
     "execution_count": 122,
     "metadata": {},
     "output_type": "execute_result"
    }
   ],
   "source": [
    "romanNumeral(567)"
   ]
  },
  {
   "cell_type": "code",
   "execution_count": 123,
   "metadata": {},
   "outputs": [
    {
     "data": {
      "text/plain": [
       "'MCCLVI'"
      ]
     },
     "execution_count": 123,
     "metadata": {},
     "output_type": "execute_result"
    }
   ],
   "source": [
    "romanNumeral(1256)"
   ]
  },
  {
   "cell_type": "code",
   "execution_count": 114,
   "metadata": {},
   "outputs": [
    {
     "name": "stdout",
     "output_type": "stream",
     "text": [
      "Number must be less than 5000\n"
     ]
    }
   ],
   "source": [
    "romanNumeral(5000)"
   ]
  }
 ],
 "metadata": {
  "kernelspec": {
   "display_name": "Python 3",
   "language": "python",
   "name": "python3"
  },
  "language_info": {
   "codemirror_mode": {
    "name": "ipython",
    "version": 3
   },
   "file_extension": ".py",
   "mimetype": "text/x-python",
   "name": "python",
   "nbconvert_exporter": "python",
   "pygments_lexer": "ipython3",
   "version": "3.6.12"
  }
 },
 "nbformat": 4,
 "nbformat_minor": 4
}
